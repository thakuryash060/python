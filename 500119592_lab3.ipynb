{
 "cells": [
  {
   "cell_type": "code",
   "execution_count": 4,
   "id": "84a7e577",
   "metadata": {},
   "outputs": [
    {
     "name": "stdout",
     "output_type": "stream",
     "text": [
      "45\n",
      "Divisible by both\n"
     ]
    }
   ],
   "source": [
    "a=int(input())\n",
    "if(a%3==0) & (a%5==0):\n",
    "    print(\"Divisible by both\")\n",
    "elif(a%3==0):\n",
    "    print(\"Divisible by 3\")\n",
    "elif(a%5==0):\n",
    "    print(\"Divisible by 5\")\n",
    "else:\n",
    "    print(\"Not divisible by both\")"
   ]
  },
  {
   "cell_type": "code",
   "execution_count": 5,
   "id": "b33833fc",
   "metadata": {},
   "outputs": [
    {
     "name": "stdout",
     "output_type": "stream",
     "text": [
      "45\n",
      "Number is divisible\n"
     ]
    }
   ],
   "source": [
    "a=int(input())\n",
    "if(a%5==0):\n",
    "    print(\"Number is divisible\")\n",
    "else:\n",
    "    print(\"Number is not divisiblw\")"
   ]
  },
  {
   "cell_type": "code",
   "execution_count": 11,
   "id": "12f2c6c8",
   "metadata": {},
   "outputs": [
    {
     "name": "stdout",
     "output_type": "stream",
     "text": [
      "12\n",
      "12\n",
      "Both are equal\n"
     ]
    }
   ],
   "source": [
    "a=int(input())\n",
    "b=int(input())\n",
    "if(a==b):\n",
    "    print(\"Both are equal\")\n",
    "elif(a>b):\n",
    "    print(\"a is greater\")\n",
    "else:    \n",
    "    print(\"b is greater\")"
   ]
  },
  {
   "cell_type": "code",
   "execution_count": 12,
   "id": "fb085301",
   "metadata": {},
   "outputs": [
    {
     "name": "stdout",
     "output_type": "stream",
     "text": [
      "c is greater\n"
     ]
    }
   ],
   "source": [
    "a=3\n",
    "b=4\n",
    "c=5\n",
    "if(a>b) and (a>c):\n",
    "    print(\"a is greater\")\n",
    "elif(b>c) and (b>a):\n",
    "    print(\"b is greater\")\n",
    "else:\n",
    "    print(\"c is greater\")"
   ]
  },
  {
   "cell_type": "code",
   "execution_count": 19,
   "id": "0039fa54",
   "metadata": {},
   "outputs": [
    {
     "name": "stdout",
     "output_type": "stream",
     "text": [
      "1\n",
      "0\n",
      "1\n",
      "Root will be two and imaginary\n",
      "(0.0, 1.0)\n",
      "(0.0, -1.0)\n"
     ]
    }
   ],
   "source": [
    "import math\n",
    "a=int(input())\n",
    "b=int(input())\n",
    "c=int(input())\n",
    "D=b**2-4*a*c\n",
    "if(D==0):\n",
    "   print(\"Root will be one\")\n",
    "   Root1=(-b/2*a)\n",
    "   print(Root1)\n",
    "if(D>0):\n",
    "   print(\"Root will be two and real\") \n",
    "   root1=(-b+math.sqrt(D))/2*a\n",
    "   root2=(-b-math.sqrt(D))/2*a\n",
    "   print(root1)\n",
    "   print(root2)\n",
    "if(D<0):\n",
    "   print(\"Root will be two and imaginary\")\n",
    "   real_part=(-b/2*a)\n",
    "   imag_part=(math.sqrt(abs(D))/2*a)\n",
    "   root1=(real_part,imag_part)\n",
    "   root2=(real_part,-imag_part)\n",
    "   print(root1)\n",
    "   print(root2)"
   ]
  },
  {
   "cell_type": "code",
   "execution_count": 24,
   "id": "c96ed022",
   "metadata": {},
   "outputs": [
    {
     "name": "stdout",
     "output_type": "stream",
     "text": [
      "2024\n",
      "Leap year\n"
     ]
    }
   ],
   "source": [
    "a=int(input())\n",
    "if((a%4==0)and a%100!=0) or (a%400==0):\n",
    "    print(\"Leap year\")\n",
    "else:\n",
    "    print(\"Not leap\")"
   ]
  },
  {
   "cell_type": "code",
   "execution_count": 36,
   "id": "152110cb",
   "metadata": {},
   "outputs": [
    {
     "name": "stdout",
     "output_type": "stream",
     "text": [
      "45\n",
      "32\n",
      "2022\n",
      "Check your input\n"
     ]
    }
   ],
   "source": [
    "day=int(input())\n",
    "month=int(input())\n",
    "year=int(input())\n",
    "if((day>=1)or(day<31)) and (month in[1,3,5,7,8,10,12]):\n",
    "    day=day+1\n",
    "    month=month+1\n",
    "    print(day,month,year)\n",
    "if(day==31)and(month in[1,3,5,7,8,10]):\n",
    "    day=1\n",
    "    month=month+1\n",
    "    print(day,month,year)\n",
    "if(day==31)and(month==12):\n",
    "    day=1\n",
    "    month=1\n",
    "    year=year+1\n",
    "    print(day, month ,year)\n",
    "if((day>=1)or(day<30)) and (month in[4,6,9,11]):\n",
    "    day=day+1\n",
    "    print(day, month ,year)\n",
    "if(day==30) and (month in[4,6,9,11]):\n",
    "    day==1\n",
    "    print(day, month ,year)\n",
    "if((day>=1)and(day<28)) and (month==2):\n",
    "    day=day+1\n",
    "    print(day, month,year)\n",
    "if((day==28)and(month==2)and(year%4!=0)):\n",
    "    day=1\n",
    "    month=3\n",
    "    print(day,month,year)\n",
    "if((day==29)and(month==2)and(year%4==0)):\n",
    "    day=1\n",
    "    month=3\n",
    "    print(day,month,year)\n",
    "else:\n",
    "    print(\"Check your input\")\n",
    "   \n",
    "   "
   ]
  },
  {
   "cell_type": "code",
   "execution_count": 48,
   "id": "25db06cf",
   "metadata": {},
   "outputs": [
    {
     "name": "stdout",
     "output_type": "stream",
     "text": [
      "Rohit Sharma\n",
      "R17234512\n",
      "5005673\n",
      "1\n",
      "B.Tech CSE AI and ML\n",
      "PDS:78\n",
      "Python:92\n",
      "Chemistry:99\n",
      "English:94\n",
      "Physics:87\n",
      "Grade=A+\n"
     ]
    }
   ],
   "source": [
    "Name=\"Rohit Sharma\"\n",
    "Roll=\"R17234512\"\n",
    "SAPID=5005673\n",
    "Sem=1\n",
    "Course=\"B.Tech CSE AI and ML\"\n",
    "print(Name)\n",
    "print(Roll)\n",
    "print(SAPID)\n",
    "print(Sem)\n",
    "print(Course)\n",
    "PDS=int(input(\"PDS:\"))\n",
    "Python=int(input(\"Python:\"))\n",
    "Chemistry=int(input(\"Chemistry:\"))\n",
    "English=int(input(\"English:\"))\n",
    "Physics=int(input(\"Physics:\"))\n",
    "Percentage=((English+Physics+Chemistry+Python+PDS)/500)*100\n",
    "CGPA=Percentage/10\n",
    "if(CGPA>=0)and(CGPA<=3.4):\n",
    "    print(\"Grade=F\")\n",
    "if(CGPA>=3.5)and(CGPA<=5.0):\n",
    "    print(\"Grade=C+\")\n",
    "if(CGPA>=5.1)and(CGPA<=6.0):\n",
    "    print(\"Grade=B\")\n",
    "if(CGPA>=6.1)and(CGPA<=7):\n",
    "    print(\"Grade=B+\")\n",
    "if(CGPA>=7.1)and(CGPA<=8):\n",
    "    print(\"Grade=A\")\n",
    "if(CGPA>=8.1)and(CGPA<=9):\n",
    "    print(\"Grade=A+\")\n",
    "if(CGPA>=9.1)and(CGPA<=10):\n",
    "    print(\"Grade=O\")"
   ]
  },
  {
   "cell_type": "code",
   "execution_count": null,
   "id": "46439fa4",
   "metadata": {},
   "outputs": [],
   "source": []
  }
 ],
 "metadata": {
  "kernelspec": {
   "display_name": "Python 3 (ipykernel)",
   "language": "python",
   "name": "python3"
  },
  "language_info": {
   "codemirror_mode": {
    "name": "ipython",
    "version": 3
   },
   "file_extension": ".py",
   "mimetype": "text/x-python",
   "name": "python",
   "nbconvert_exporter": "python",
   "pygments_lexer": "ipython3",
   "version": "3.11.5"
  }
 },
 "nbformat": 4,
 "nbformat_minor": 5
}
