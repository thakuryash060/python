{
 "cells": [
  {
   "cell_type": "code",
   "execution_count": 6,
   "id": "a1ec006c",
   "metadata": {},
   "outputs": [
    {
     "name": "stdout",
     "output_type": "stream",
     "text": [
      "Hello Everyone!!!\n",
      "Hello\n",
      "World\n",
      "\n",
      "Hello\n",
      "   World\n",
      "\n",
      "'Rohit's date of birth is 12/05/1999\n"
     ]
    }
   ],
   "source": [
    "print(\"Hello Everyone!!!\")\n",
    "print(\"Hello\\nWorld\")\n",
    "\n",
    "print(\"\\nHello\\n   World\")\n",
    "print(\"\\n'Rohit's date of birth is 12/05/1999\")"
   ]
  },
  {
   "cell_type": "code",
   "execution_count": 7,
   "id": "f9c718f4",
   "metadata": {},
   "outputs": [
    {
     "name": "stdout",
     "output_type": "stream",
     "text": [
      "Hello\n"
     ]
    }
   ],
   "source": [
    "x=\"Hello\"\n",
    "print(x)"
   ]
  },
  {
   "cell_type": "code",
   "execution_count": 8,
   "id": "dc21204b",
   "metadata": {},
   "outputs": [
    {
     "name": "stdout",
     "output_type": "stream",
     "text": [
      "1 1.0 1\n"
     ]
    }
   ],
   "source": [
    "x=1\n",
    "y=1.0\n",
    "z=\"1\"\n",
    "print(x,y,z)"
   ]
  },
  {
   "cell_type": "code",
   "execution_count": 13,
   "id": "c0bd9a32",
   "metadata": {},
   "outputs": [
    {
     "name": "stdout",
     "output_type": "stream",
     "text": [
      "Aayush Kumar\n"
     ]
    }
   ],
   "source": [
    "a=\"Aayush\"\n",
    "b=\" Kumar\"\n",
    "print(a+b)"
   ]
  },
  {
   "cell_type": "code",
   "execution_count": 14,
   "id": "89fea87c",
   "metadata": {},
   "outputs": [
    {
     "name": "stdout",
     "output_type": "stream",
     "text": [
      "Aayush (aayush) Kumar\n"
     ]
    }
   ],
   "source": [
    "a=\"Aayush\"\n",
    "b=\" (aayush)\"\n",
    "c=\" Kumar\"\n",
    "print(a+b+c)"
   ]
  },
  {
   "cell_type": "code",
   "execution_count": 15,
   "id": "3210bb89",
   "metadata": {},
   "outputs": [
    {
     "name": "stdout",
     "output_type": "stream",
     "text": [
      "Nikunj Bansal\n",
      "500069944\n",
      "13 Oct 1999\n",
      "UPES Bidholi\n",
      "248007\n",
      "AI and ML\n",
      "2\n"
     ]
    }
   ],
   "source": [
    "Name=\"Nikunj Bansal\"\n",
    "SapId=500069944\n",
    "DOB=\"13 Oct 1999\"\n",
    "Address=\"UPES Bidholi\"\n",
    "Pincode=248007\n",
    "Programme=\"AI and ML\"\n",
    "Sem=2\n",
    "print(Name)\n",
    "print(SapId)\n",
    "print(DOB)\n",
    "print(Address)\n",
    "print(Pincode)\n",
    "print(Programme)\n",
    "print(Sem)"
   ]
  },
  {
   "cell_type": "code",
   "execution_count": null,
   "id": "f100a62b",
   "metadata": {},
   "outputs": [],
   "source": []
  }
 ],
 "metadata": {
  "kernelspec": {
   "display_name": "Python 3 (ipykernel)",
   "language": "python",
   "name": "python3"
  },
  "language_info": {
   "codemirror_mode": {
    "name": "ipython",
    "version": 3
   },
   "file_extension": ".py",
   "mimetype": "text/x-python",
   "name": "python",
   "nbconvert_exporter": "python",
   "pygments_lexer": "ipython3",
   "version": "3.11.5"
  }
 },
 "nbformat": 4,
 "nbformat_minor": 5
}
